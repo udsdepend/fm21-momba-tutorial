{
 "cells": [
  {
   "cell_type": "markdown",
   "id": "bd80070a",
   "metadata": {},
   "source": [
    "# Getting Started\n",
    "\n",
    "\n",
    "\n",
    "\n",
    "### During the Tutorial\n",
    "\n",
    "1. If you have [Git](https://git-scm.com/) installed, clone the material for the tutorial:\n",
    "    ```\n",
    "    git clone https://github.com/udsdepend/fm21-momba-tutorial.git\n",
    "    ```\n",
    "    Otherwise, you can also [download the material as a ZIP file](https://github.com/udsdepend/fm21-momba-tutorial/archive/refs/heads/master.zip).\n",
    "\n",
    "After cloning the material or extracting the ZIP file, you find a file `workspace.code-workspace` in the cloned or extracted folder.\n",
    "This file defines a VS Code *workspace*.\n",
    "To open the workspace run:\n",
    "```\n",
    "code workspace.code-workspace\n",
    "```\n",
    "Alternatively, you can also open the workspace from the UI: To this end, open the *command palette* by pressing `F1`, type *File: Open Workspace from File*, and hit enter:\n",
    "```{image} ./images/workspace-from-file.png\n",
    ":name: workspace-from-file\n",
    ":align: center\n",
    "```\n",
    "\n",
    "Then, choose the `workspace.code-workspace` file to open the workspace.\n",
    "\n",
    "\n",
    "This folders should contain a file `pyproject.toml`.\n",
    "Please make sure to open the right folder as otherwise the following steps won't work."
   ]
  },
  {
   "cell_type": "code",
   "execution_count": 1,
   "id": "5c7ee63e",
   "metadata": {},
   "outputs": [
    {
     "name": "stdout",
     "output_type": "stream",
     "text": [
      "<Context model_type=ModelType.MDP at 0x7fccec6c8d60>\n"
     ]
    }
   ],
   "source": [
    "from momba import model\n",
    "\n",
    "ctx = model.Context(model.ModelType.MDP)\n",
    "\n",
    "print(ctx)"
   ]
  }
 ],
 "metadata": {
  "jupytext": {
   "formats": "md:myst",
   "text_representation": {
    "extension": ".md",
    "format_name": "myst"
   }
  },
  "kernelspec": {
   "display_name": "Python 3",
   "language": "python",
   "name": "python3"
  },
  "language_info": {
   "codemirror_mode": {
    "name": "ipython",
    "version": 3
   },
   "file_extension": ".py",
   "mimetype": "text/x-python",
   "name": "python",
   "nbconvert_exporter": "python",
   "pygments_lexer": "ipython3",
   "version": "3.9.7"
  },
  "source_map": [
   11,
   47
  ]
 },
 "nbformat": 4,
 "nbformat_minor": 5
}