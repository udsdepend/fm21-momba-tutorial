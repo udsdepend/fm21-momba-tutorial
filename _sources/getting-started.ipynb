{
 "cells": [
  {
   "cell_type": "markdown",
   "id": "a7501875",
   "metadata": {},
   "source": [
    "# Getting Started"
   ]
  },
  {
   "cell_type": "code",
   "execution_count": 1,
   "id": "e3f03f67",
   "metadata": {},
   "outputs": [
    {
     "name": "stdout",
     "output_type": "stream",
     "text": [
      "<Context model_type=ModelType.MDP at 0x7ff55c5c1df0>\n"
     ]
    }
   ],
   "source": [
    "from momba import model\n",
    "\n",
    "ctx = model.Context(model.ModelType.MDP)\n",
    "\n",
    "print(ctx)"
   ]
  }
 ],
 "metadata": {
  "jupytext": {
   "formats": "md:myst",
   "text_representation": {
    "extension": ".md",
    "format_name": "myst"
   }
  },
  "kernelspec": {
   "display_name": "Python 3",
   "language": "python",
   "name": "python3"
  },
  "language_info": {
   "codemirror_mode": {
    "name": "ipython",
    "version": 3
   },
   "file_extension": ".py",
   "mimetype": "text/x-python",
   "name": "python",
   "nbconvert_exporter": "python",
   "pygments_lexer": "ipython3",
   "version": "3.9.7"
  },
  "source_map": [
   11,
   15
  ]
 },
 "nbformat": 4,
 "nbformat_minor": 5
}